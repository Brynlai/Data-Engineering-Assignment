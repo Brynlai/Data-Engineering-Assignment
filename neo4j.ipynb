{
 "cells": [
  {
   "cell_type": "code",
   "execution_count": 1,
   "id": "490dab52-b07d-434a-93fe-abde306eb705",
   "metadata": {},
   "outputs": [
    {
     "name": "stderr",
     "output_type": "stream",
     "text": [
      "24/12/22 19:38:26 WARN Utils: Your hostname, R2D3. resolves to a loopback address: 127.0.1.1; using 172.28.168.56 instead (on interface eth0)\n",
      "24/12/22 19:38:26 WARN Utils: Set SPARK_LOCAL_IP if you need to bind to another address\n",
      "Setting default log level to \"WARN\".\n",
      "To adjust logging level use sc.setLogLevel(newLevel). For SparkR, use setLogLevel(newLevel).\n",
      "24/12/22 19:38:28 WARN NativeCodeLoader: Unable to load native-hadoop library for your platform... using builtin-java classes where applicable\n",
      "24/12/22 19:38:29 WARN Utils: Service 'SparkUI' could not bind on port 4040. Attempting port 4041.\n",
      "24/12/22 19:38:29 WARN Utils: Service 'SparkUI' could not bind on port 4041. Attempting port 4042.\n"
     ]
    }
   ],
   "source": [
    "\"\"\"\n",
    "Author: Lai ZhonPoa\n",
    "\"\"\"\n",
    "from UtilsNeo4J import DataBaseHandler\n",
    "from UtilsRedis import Redis_Utilities\n",
    "import redis\n",
    "# Initialize SparkSession\n",
    "from GlobalSparkSession import GlobalSparkSession\n",
    "spark = GlobalSparkSession.get_instance()\n",
    "\n",
    "# Load data from the cleaned CSV file\n",
    "word_details_csv_cleaned = spark.read.csv(\"assignData/word_details_csv_cleaned_test\", header=True)\n",
    "# Convert the Spark DataFrame to a list of Rows for easier processing\n",
    "data = word_details_csv_cleaned.collect()"
   ]
  },
  {
   "cell_type": "code",
   "execution_count": 2,
   "id": "17e739bd-35ad-4a97-b831-f2058f26c07b",
   "metadata": {
    "scrolled": true
   },
   "outputs": [
    {
     "name": "stdout",
     "output_type": "stream",
     "text": [
      "Skipping row with invalid sentiment data for word: armsuntikan\n",
      "Total Nodes: 10104\n"
     ]
    }
   ],
   "source": [
    "# Create Instance\n",
    "redis_handler = Redis_Utilities()\n",
    "\n",
    "# Initialize DataBaseHandler 22/12/2024\n",
    "db_handler = DataBaseHandler(\n",
    "    neo4j_uri=\"neo4j+s://75fb82ba.databases.neo4j.io\",\n",
    "    neo4j_user=\"neo4j\",\n",
    "    neo4j_password=\"E2znDHtP7x2Hs0B5_BM1tnglu6fTkM5YPTX18DkubIk\",  # Remember to replace with your actual password!\n",
    "    redis_client=redis_handler\n",
    ")\n",
    "\n",
    "# Populate the Neo4j database with the data\n",
    "db_handler.populate_database(data)\n",
    "\n",
    "# Query Neo4j to verify the number of nodes created\n",
    "total_nodes = db_handler.get_total_unique_entries()\n",
    "print(f\"Total Nodes: {total_nodes}\")"
   ]
  }
 ],
 "metadata": {
  "kernelspec": {
   "display_name": "de-venv",
   "language": "python",
   "name": "de-venv"
  },
  "language_info": {
   "codemirror_mode": {
    "name": "ipython",
    "version": 3
   },
   "file_extension": ".py",
   "mimetype": "text/x-python",
   "name": "python",
   "nbconvert_exporter": "python",
   "pygments_lexer": "ipython3",
   "version": "3.10.12"
  }
 },
 "nbformat": 4,
 "nbformat_minor": 5
}
